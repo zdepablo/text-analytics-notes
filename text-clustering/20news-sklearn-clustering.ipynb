{
 "cells": [
  {
   "cell_type": "code",
   "execution_count": 4,
   "metadata": {
    "collapsed": false
   },
   "outputs": [
    {
     "name": "stdout",
     "output_type": "stream",
     "text": [
      "3387 documents\n",
      "4 categories\n"
     ]
    }
   ],
   "source": [
    "from sklearn.datasets import fetch_20newsgroups\n",
    "\n",
    "categories = [\n",
    "    'alt.atheism',\n",
    "    'talk.religion.misc',\n",
    "    'comp.graphics',\n",
    "    'sci.space',\n",
    "]\n",
    "\n",
    "\n",
    "dataset = fetch_20newsgroups(subset='all', categories=categories,\n",
    "                             shuffle=True, random_state=42)\n",
    "\n",
    "print(\"%d documents\" % len(dataset.data))\n",
    "\n",
    "print(\"%d categories\" % len(dataset.target_names))"
   ]
  },
  {
   "cell_type": "code",
   "execution_count": 9,
   "metadata": {
    "collapsed": false
   },
   "outputs": [
    {
     "data": {
      "text/plain": [
       "4"
      ]
     },
     "execution_count": 9,
     "metadata": {},
     "output_type": "execute_result"
    }
   ],
   "source": [
    "import numpy as np\n",
    "\n",
    "labels = dataset.target\n",
    "true_k = np.unique(labels).shape[0]\n"
   ]
  },
  {
   "cell_type": "code",
   "execution_count": 16,
   "metadata": {
    "collapsed": false
   },
   "outputs": [],
   "source": [
    "from sklearn.feature_extraction.text import TfidfVectorizer\n",
    "\n",
    "vectorizer = TfidfVectorizer(max_df=0.5, min_df=2, stop_words='english', use_idf=True)\n",
    "\n",
    "X = vectorizer.fit_transform(dataset.data)"
   ]
  },
  {
   "cell_type": "code",
   "execution_count": 17,
   "metadata": {
    "collapsed": false
   },
   "outputs": [
    {
     "data": {
      "text/plain": [
       "<3387x24546 sparse matrix of type '<type 'numpy.float64'>'\n",
       "\twith 361973 stored elements in Compressed Sparse Row format>"
      ]
     },
     "execution_count": 17,
     "metadata": {},
     "output_type": "execute_result"
    }
   ],
   "source": [
    "X"
   ]
  },
  {
   "cell_type": "code",
   "execution_count": 19,
   "metadata": {
    "collapsed": false
   },
   "outputs": [
    {
     "name": "stdout",
     "output_type": "stream",
     "text": [
      "Initialization complete\n",
      "Iteration  0, inertia 6458.244\n",
      "Iteration  1, inertia 3309.427\n",
      "Iteration  2, inertia 3298.916\n",
      "Iteration  3, inertia 3294.767\n",
      "Iteration  4, inertia 3292.893\n",
      "Iteration  5, inertia 3291.302\n",
      "Iteration  6, inertia 3289.662\n",
      "Iteration  7, inertia 3288.239\n",
      "Iteration  8, inertia 3287.437\n",
      "Iteration  9, inertia 3286.692\n",
      "Iteration 10, inertia 3285.774\n",
      "Iteration 11, inertia 3284.295\n",
      "Iteration 12, inertia 3283.191\n",
      "Iteration 13, inertia 3282.891\n",
      "Iteration 14, inertia 3282.623\n",
      "Iteration 15, inertia 3282.413\n",
      "Iteration 16, inertia 3282.353\n",
      "Iteration 17, inertia 3282.209\n",
      "Iteration 18, inertia 3282.014\n",
      "Iteration 19, inertia 3281.989\n",
      "Iteration 20, inertia 3281.981\n",
      "Iteration 21, inertia 3281.967\n",
      "Iteration 22, inertia 3281.955\n",
      "Iteration 23, inertia 3281.952\n",
      "Converged at iteration 23\n"
     ]
    },
    {
     "data": {
      "text/plain": [
       "KMeans(copy_x=True, init='k-means++', max_iter=100, n_clusters=4, n_init=1,\n",
       "    n_jobs=1, precompute_distances=True, random_state=None, tol=0.0001,\n",
       "    verbose=True)"
      ]
     },
     "execution_count": 19,
     "metadata": {},
     "output_type": "execute_result"
    }
   ],
   "source": [
    "from sklearn.cluster import KMeans\n",
    "\n",
    "km = KMeans(n_clusters=true_k, init='k-means++', max_iter=100, n_init=1, verbose=True)\n",
    "km.fit(X)"
   ]
  },
  {
   "cell_type": "code",
   "execution_count": 22,
   "metadata": {
    "collapsed": false
   },
   "outputs": [
    {
     "name": "stdout",
     "output_type": "stream",
     "text": [
      "Homogeneity: 0.428\n",
      "Completeness: 0.508\n",
      "V-measure: 0.465\n",
      "Adjusted Rand-Index: 0.363\n",
      "Silhouette Coefficient: 0.006\n"
     ]
    }
   ],
   "source": [
    "from sklearn import metrics\n",
    "\n",
    "print(\"Homogeneity: %0.3f\" % metrics.homogeneity_score(labels, km.labels_))\n",
    "print(\"Completeness: %0.3f\" % metrics.completeness_score(labels, km.labels_))\n",
    "print(\"V-measure: %0.3f\" % metrics.v_measure_score(labels, km.labels_))\n",
    "print(\"Adjusted Rand-Index: %.3f\"\n",
    "      % metrics.adjusted_rand_score(labels, km.labels_))\n",
    "print(\"Silhouette Coefficient: %0.3f\"\n",
    "      % metrics.silhouette_score(X, km.labels_, sample_size=1000))\n"
   ]
  },
  {
   "cell_type": "code",
   "execution_count": 31,
   "metadata": {
    "collapsed": false
   },
   "outputs": [
    {
     "name": "stdout",
     "output_type": "stream",
     "text": [
      "Top terms per cluster:\n",
      "Cluster 0:\n",
      " god people com jesus say don bible christian article believe religion think just know atheism does evidence morality koresh mathew like way cs said university good atheists did islam jim\n",
      "Cluster 1:\n",
      " sandvik sgi livesey kent com keith apple newton solntze wpd jon caltech morality article moral schneider allan objective alink ksand cco people cruel don cookamunga tourist private activities atheists bureau\n",
      "Cluster 2:\n",
      " graphics com university space posting host nntp image thanks know computer like ac ca program cs article just uk file files software help 3d does images mail need distribution bit\n",
      "Cluster 3:\n",
      " henry space nasa access toronto digex pat gov shuttle zoo hst spencer net mission orbit prb launch com jpl zoology article station baalke jsc like communications express dseg online ti\n"
     ]
    }
   ],
   "source": [
    "from __future__ import print_function\n",
    "\n",
    "print(\"Top terms per cluster:\")\n",
    "\n",
    "order_centroids = km.cluster_centers_.argsort()[:, ::-1]\n",
    "\n",
    "terms = vectorizer.get_feature_names()\n",
    "for i in range(true_k):\n",
    "    print(\"Cluster %d:\" % i)\n",
    "    for ind in order_centroids[i, :30]:\n",
    "        print(' %s' % terms[ind], end = '')\n",
    "    print()\n"
   ]
  }
 ],
 "metadata": {
  "kernelspec": {
   "display_name": "Python 2",
   "language": "python",
   "name": "python2"
  },
  "language_info": {
   "codemirror_mode": {
    "name": "ipython",
    "version": 2
   },
   "file_extension": ".py",
   "mimetype": "text/x-python",
   "name": "python",
   "nbconvert_exporter": "python",
   "pygments_lexer": "ipython2",
   "version": "2.7.6"
  }
 },
 "nbformat": 4,
 "nbformat_minor": 0
}
